{
 "cells": [
  {
   "cell_type": "markdown",
   "metadata": {},
   "source": [
    "## Tugas Besar SA (Strategi Algoritma)\n",
    "##### Menggunakan Brute Force\n",
    "\n",
    "\n",
    "### Maximum Subarray Sum Problem\n",
    "##### Menggunakan Brute Force\n",
    "- Time Complexity = $O(n^3)$\n",
    "- Space Complexity = $O(1)$\n",
    "- Efisiensi = Pendekatan ini sangat tidak efisien untuk array besar karena kompleksitas waktu kubik.\n",
    "- Running Time:\n",
    "    - Untuk array kecil (misalnya, panjang 10), waktu berjalannya masuk akal.\n",
    "    - Untuk array yang lebih besar (misalnya, panjang 50), algoritme menjadi tidak praktis karena bertambahnya waktu berjalan kubik.\n",
    "##### Menggunakan Dynamic Programming\n",
    "- Time Complexity = $O(n)$\n",
    "- Space Complexity = $O(1)$\n",
    "- Efisiensi = Pendekatan ini sangat efisien dan cocok untuk array besar karena beroperasi dalam waktu linier.\n",
    "- Running Time:\n",
    "    - Untuk array kecil (misalnya, panjang 10), waktu berjalannya sangat cepat.\n",
    "    - Untuk array yang lebih besar (misalnya, panjang 50), waktu berjalan tetap efisien, sehingga pendekatan ini cocok untuk array besar.\n",
    "        "
   ]
  },
  {
   "cell_type": "code",
   "execution_count": 2,
   "metadata": {},
   "outputs": [],
   "source": [
    "import tkinter as tk\n",
    "from tkinter import ttk, messagebox\n",
    "import time"
   ]
  },
  {
   "cell_type": "code",
   "execution_count": 3,
   "metadata": {},
   "outputs": [],
   "source": [
    "def max_subarray_sum_brute_force(arr):\n",
    "    max_sum = float('-inf')\n",
    "    n = len(arr)\n",
    "    for i in range(n):\n",
    "        for j in range(i, n):\n",
    "            current_sum = sum(arr[i:j+1])\n",
    "            if current_sum > max_sum:\n",
    "                max_sum = current_sum\n",
    "    return max_sum"
   ]
  },
  {
   "cell_type": "code",
   "execution_count": 4,
   "metadata": {},
   "outputs": [],
   "source": [
    "def max_subarray_sum_dynamic(arr):\n",
    "    max_current = max_global = arr[0]\n",
    "    for num in arr[1:]:\n",
    "        max_current = max(num, max_current + num)\n",
    "        if max_current > max_global:\n",
    "            max_global = max_current\n",
    "    return max_global"
   ]
  },
  {
   "cell_type": "code",
   "execution_count": 5,
   "metadata": {},
   "outputs": [],
   "source": [
    "def solve_problem():\n",
    "    problem = var_problem.get()\n",
    "    algorithm = var_algorithm.get()\n",
    "\n",
    "    solve_max_subarray_sum(algorithm)"
   ]
  },
  {
   "cell_type": "code",
   "execution_count": 6,
   "metadata": {},
   "outputs": [],
   "source": [
    "def solve_max_subarray_sum(algorithm):\n",
    "    try:\n",
    "        arr = list(map(int, entry_param.get().split(',')))\n",
    "    except ValueError:\n",
    "        messagebox.showerror(\"Invalid Input\", \"Please enter a valid list of integers separated by commas.\")\n",
    "        return\n",
    "\n",
    "    start_time = time.time()\n",
    "    if algorithm == \"Brute Force\":\n",
    "        result = max_subarray_sum_brute_force(arr)\n",
    "    else:\n",
    "        result = max_subarray_sum_dynamic(arr)\n",
    "    end_time = time.time()\n",
    "    \n",
    "    result_label.config(text=f\"Result: {result}\")\n",
    "    time_label.config(text=f\"Time: {end_time - start_time:.6f} seconds\")"
   ]
  },
  {
   "cell_type": "code",
   "execution_count": 7,
   "metadata": {},
   "outputs": [
    {
     "data": {
      "text/plain": [
       "''"
      ]
     },
     "execution_count": 7,
     "metadata": {},
     "output_type": "execute_result"
    }
   ],
   "source": [
    "# Create main window\n",
    "root = tk.Tk()\n",
    "root.title(\"Algorithm Solver\")\n",
    "root.geometry(\"400x200\")"
   ]
  },
  {
   "cell_type": "code",
   "execution_count": 45,
   "metadata": {},
   "outputs": [],
   "source": [
    "# Style\n",
    "style = ttk.Style()\n",
    "style.configure(\"TLabel\", font=(\"Helvetica\", 12))\n",
    "style.configure(\"TButton\", font=(\"Helvetica\", 12))"
   ]
  },
  {
   "cell_type": "code",
   "execution_count": 46,
   "metadata": {},
   "outputs": [],
   "source": [
    "# Problem selection\n",
    "problem_frame = ttk.Frame(root)\n",
    "problem_frame.pack(pady=10)\n",
    "ttk.Label(problem_frame, text=\"Select Problem:\").grid(row=0, column=0, padx=5, sticky=\"w\")\n",
    "var_problem = tk.StringVar(value=\"Maximum Subarray Sum\")\n",
    "ttk.Radiobutton(problem_frame, text=\"Maximum Subarray Sum\", variable=var_problem, value=\"Maximum Subarray Sum\").grid(row=1, column=1, padx=5, sticky=\"w\")"
   ]
  },
  {
   "cell_type": "code",
   "execution_count": 47,
   "metadata": {},
   "outputs": [],
   "source": [
    "# Algorithm Selection\n",
    "algorithm_frame = ttk.Frame(root)\n",
    "algorithm_frame.pack(pady=10)\n",
    "ttk.Label(algorithm_frame, text=\"Select Algorithm:\").grid(row=0, column=0, padx=5, sticky=\"w\")\n",
    "var_algorithm = tk.StringVar(value=\"Brute Force\")\n",
    "ttk.Radiobutton(algorithm_frame, text=\"Brute Force\", variable=var_algorithm, value=\"Brute Force\").grid(row=0, column=1, padx=5)\n",
    "ttk.Radiobutton(algorithm_frame, text=\"Dynamic Programming\", variable=var_algorithm, value=\"Dynamic Programming\").grid(row=1, column=1, padx=5, sticky=\"w\")"
   ]
  },
  {
   "cell_type": "code",
   "execution_count": 48,
   "metadata": {},
   "outputs": [],
   "source": [
    "# Parameter entry\n",
    "param_frame = ttk.Frame(root)\n",
    "param_frame.pack(pady=10)\n",
    "ttk.Label(param_frame, text=\"Enter Parameter Array for Subarray Sum :\").grid(row=0, column=0, padx=5, sticky=\"w\")\n",
    "entry_param = ttk.Entry(param_frame, width=30)\n",
    "entry_param.grid(row=0, column=1, padx=5)"
   ]
  },
  {
   "cell_type": "code",
   "execution_count": 49,
   "metadata": {},
   "outputs": [],
   "source": [
    "# Solve button\n",
    "solve_button = ttk.Button(root, text=\"Solve\", command=solve_problem)\n",
    "solve_button.pack(pady=10)\n",
    "\n",
    "# Result label\n",
    "result_label = ttk.Label(root, text=\"Result: \")\n",
    "result_label.pack()\n",
    "\n",
    "# Time taken label\n",
    "time_label = ttk.Label(root, text=\"Time: \")\n",
    "time_label.pack()\n",
    "\n",
    "# Run the application\n",
    "root.mainloop()"
   ]
  }
 ],
 "metadata": {
  "kernelspec": {
   "display_name": "Python 3",
   "language": "python",
   "name": "python3"
  },
  "language_info": {
   "codemirror_mode": {
    "name": "ipython",
    "version": 3
   },
   "file_extension": ".py",
   "mimetype": "text/x-python",
   "name": "python",
   "nbconvert_exporter": "python",
   "pygments_lexer": "ipython3",
   "version": "3.10.6"
  }
 },
 "nbformat": 4,
 "nbformat_minor": 2
}
